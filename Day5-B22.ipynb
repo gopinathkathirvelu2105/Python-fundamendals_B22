{
 "cells": [
  {
   "cell_type": "code",
   "execution_count": null,
   "metadata": {},
   "outputs": [],
   "source": [
    "Introduction to looping statements:\n",
    "working with for loops:"
   ]
  },
  {
   "cell_type": "code",
   "execution_count": 30,
   "metadata": {},
   "outputs": [],
   "source": [
    "bank_customers = ['naveen', 'papi', 'ram', 'karthik', 'sami', 'surya', 'vandhana', 'anushka']"
   ]
  },
  {
   "cell_type": "code",
   "execution_count": 1,
   "metadata": {},
   "outputs": [],
   "source": [
    "#Req: To greet the customers on a new year.\n",
    "wish you a very happy new year!"
   ]
  },
  {
   "cell_type": "code",
   "execution_count": 31,
   "metadata": {},
   "outputs": [
    {
     "name": "stdout",
     "output_type": "stream",
     "text": [
      "wish you a very happy new year!, naveen\n"
     ]
    }
   ],
   "source": [
    "print(f\"wish you a very happy new year!, {bank_customers[0]}\")"
   ]
  },
  {
   "cell_type": "code",
   "execution_count": 32,
   "metadata": {},
   "outputs": [
    {
     "name": "stdout",
     "output_type": "stream",
     "text": [
      "Wish you a very happy new year, papi\n"
     ]
    }
   ],
   "source": [
    "print(f\"Wish you a very happy new year, {bank_customers[1]}\")"
   ]
  },
  {
   "cell_type": "code",
   "execution_count": 33,
   "metadata": {},
   "outputs": [
    {
     "name": "stdout",
     "output_type": "stream",
     "text": [
      "Wish you a very happy new year!, naveen\n",
      "Wish you a very happy new year!, papi\n",
      "Wish you a very happy new year!, ram\n",
      "Wish you a very happy new year!, karthik\n",
      "Wish you a very happy new year!, sami\n",
      "Wish you a very happy new year!, surya\n",
      "Wish you a very happy new year!, vandhana\n",
      "Wish you a very happy new year!, anushka\n"
     ]
    }
   ],
   "source": [
    "for customer in bank_customers:\n",
    "    print(f\"Wish you a very happy new year!, {customer}\")"
   ]
  },
  {
   "cell_type": "code",
   "execution_count": null,
   "metadata": {},
   "outputs": [],
   "source": [
    "#General syntax of a for loop:\n",
    "for tempvar in mainvar: #gap is called as Indentation (one TAB space)\n",
    "    print(tempvar)\n"
   ]
  },
  {
   "cell_type": "code",
   "execution_count": 34,
   "metadata": {},
   "outputs": [
    {
     "name": "stdout",
     "output_type": "stream",
     "text": [
      "Wish you a very happy new year!, naveen\n",
      "Wish you a very happy new year!, papi\n",
      "Wish you a very happy new year!, ram\n",
      "Wish you a very happy new year!, karthik\n",
      "Wish you a very happy new year!, sami\n",
      "Wish you a very happy new year!, surya\n",
      "Wish you a very happy new year!, vandhana\n",
      "Wish you a very happy new year!, anushka\n"
     ]
    }
   ],
   "source": [
    "for x in bank_customers:\n",
    "    print(f\"Wish you a very happy new year!, {x}\")"
   ]
  },
  {
   "cell_type": "code",
   "execution_count": 37,
   "metadata": {},
   "outputs": [],
   "source": [
    "students = ['suman', 'keerthi', 'yasmin', 'ravi', 'john', 'gopi', 'praveen', 'sajid']"
   ]
  },
  {
   "cell_type": "code",
   "execution_count": null,
   "metadata": {},
   "outputs": [],
   "source": [
    "#req : Appriciate the participants the students."
   ]
  },
  {
   "cell_type": "code",
   "execution_count": 39,
   "metadata": {},
   "outputs": [
    {
     "name": "stdout",
     "output_type": "stream",
     "text": [
      "Keep up Good work!, suman\n",
      "Keep up Good work!, keerthi\n",
      "Keep up Good work!, yasmin\n",
      "Keep up Good work!, ravi\n",
      "Keep up Good work!, john\n",
      "Keep up Good work!, gopi\n",
      "Keep up Good work!, praveen\n",
      "Keep up Good work!, sajid\n"
     ]
    }
   ],
   "source": [
    "for x in students:\n",
    "    print(f\"Keep up Good work!, {x}\")"
   ]
  },
  {
   "cell_type": "code",
   "execution_count": 40,
   "metadata": {},
   "outputs": [
    {
     "name": "stdout",
     "output_type": "stream",
     "text": [
      "Keep up Good work!, Suman\n",
      "Keep up Good work!, Keerthi\n",
      "Keep up Good work!, Yasmin\n",
      "Keep up Good work!, Ravi\n",
      "Keep up Good work!, John\n",
      "Keep up Good work!, Gopi\n",
      "Keep up Good work!, Praveen\n",
      "Keep up Good work!, Sajid\n"
     ]
    }
   ],
   "source": [
    "for x in students:\n",
    "    print(f\"Keep up Good work!, {x.title()}\")"
   ]
  },
  {
   "cell_type": "code",
   "execution_count": null,
   "metadata": {},
   "outputs": [],
   "source": [
    "#Enahnacement of the code....!"
   ]
  },
  {
   "cell_type": "code",
   "execution_count": 41,
   "metadata": {},
   "outputs": [
    {
     "name": "stdout",
     "output_type": "stream",
     "text": [
      "Keep up the good work, Suman\n",
      "I will be looking forward to receive all your practice files of today, Suman\n",
      "Keep up the good work, Keerthi\n",
      "I will be looking forward to receive all your practice files of today, Keerthi\n",
      "Keep up the good work, Yasmin\n",
      "I will be looking forward to receive all your practice files of today, Yasmin\n",
      "Keep up the good work, Ravi\n",
      "I will be looking forward to receive all your practice files of today, Ravi\n",
      "Keep up the good work, John\n",
      "I will be looking forward to receive all your practice files of today, John\n",
      "Keep up the good work, Gopi\n",
      "I will be looking forward to receive all your practice files of today, Gopi\n",
      "Keep up the good work, Praveen\n",
      "I will be looking forward to receive all your practice files of today, Praveen\n",
      "Keep up the good work, Sajid\n",
      "I will be looking forward to receive all your practice files of today, Sajid\n"
     ]
    }
   ],
   "source": [
    "for x in students:\n",
    "    print(f\"Keep up the good work, {x.title()}\")\n",
    "    print(f\"I will be looking forward to receive all your practice files of today, {x.title()}\")"
   ]
  },
  {
   "cell_type": "code",
   "execution_count": null,
   "metadata": {},
   "outputs": [],
   "source": [
    "#Improvisation of the syntax:"
   ]
  },
  {
   "cell_type": "code",
   "execution_count": 42,
   "metadata": {},
   "outputs": [
    {
     "name": "stdout",
     "output_type": "stream",
     "text": [
      "Keep up the good work!, Suman\n",
      "I will be looking forward to receive all your practice files of today, Suman.\n",
      "\n",
      "Keep up the good work!, Keerthi\n",
      "I will be looking forward to receive all your practice files of today, Keerthi.\n",
      "\n",
      "Keep up the good work!, Yasmin\n",
      "I will be looking forward to receive all your practice files of today, Yasmin.\n",
      "\n",
      "Keep up the good work!, Ravi\n",
      "I will be looking forward to receive all your practice files of today, Ravi.\n",
      "\n",
      "Keep up the good work!, John\n",
      "I will be looking forward to receive all your practice files of today, John.\n",
      "\n",
      "Keep up the good work!, Gopi\n",
      "I will be looking forward to receive all your practice files of today, Gopi.\n",
      "\n",
      "Keep up the good work!, Praveen\n",
      "I will be looking forward to receive all your practice files of today, Praveen.\n",
      "\n",
      "Keep up the good work!, Sajid\n",
      "I will be looking forward to receive all your practice files of today, Sajid.\n",
      "\n"
     ]
    }
   ],
   "source": [
    "for x in students:\n",
    "    print(f\"Keep up the good work!, {x.title()}\")\n",
    "    print(f\"I will be looking forward to receive all your practice files of today, {x.title()}.\\n\")"
   ]
  },
  {
   "cell_type": "code",
   "execution_count": 44,
   "metadata": {},
   "outputs": [
    {
     "name": "stdout",
     "output_type": "stream",
     "text": [
      "Kepp up the good work, Suman\n",
      "I will be looking forward to receive all your practice files of today, Suman.\n",
      "\n",
      "Kepp up the good work, Keerthi\n",
      "I will be looking forward to receive all your practice files of today, Keerthi.\n",
      "\n",
      "Kepp up the good work, Yasmin\n",
      "I will be looking forward to receive all your practice files of today, Yasmin.\n",
      "\n",
      "Kepp up the good work, Ravi\n",
      "I will be looking forward to receive all your practice files of today, Ravi.\n",
      "\n",
      "Kepp up the good work, John\n",
      "I will be looking forward to receive all your practice files of today, John.\n",
      "\n",
      "Kepp up the good work, Gopi\n",
      "I will be looking forward to receive all your practice files of today, Gopi.\n",
      "\n",
      "Kepp up the good work, Praveen\n",
      "I will be looking forward to receive all your practice files of today, Praveen.\n",
      "\n",
      "Kepp up the good work, Sajid\n",
      "I will be looking forward to receive all your practice files of today, Sajid.\n",
      "\n",
      "Thank you all for showing the interest in learning python\n"
     ]
    }
   ],
   "source": [
    "for x in students:\n",
    "    print(f\"Kepp up the good work, {x.title()}\")\n",
    "    print(f\"I will be looking forward to receive all your practice files of today, {x.title()}.\\n\")\n",
    "    \n",
    "print('Thank you all for showing the interest in learning python') # it printed only once at end of the for loop script."
   ]
  },
  {
   "cell_type": "code",
   "execution_count": null,
   "metadata": {},
   "outputs": [],
   "source": [
    "Introduction to zen of python:"
   ]
  },
  {
   "cell_type": "code",
   "execution_count": 46,
   "metadata": {},
   "outputs": [
    {
     "name": "stdout",
     "output_type": "stream",
     "text": [
      "The Zen of Python, by Tim Peters\n",
      "\n",
      "Beautiful is better than ugly.\n",
      "Explicit is better than implicit.\n",
      "Simple is better than complex.\n",
      "Complex is better than complicated.\n",
      "Flat is better than nested.\n",
      "Sparse is better than dense.\n",
      "Readability counts.\n",
      "Special cases aren't special enough to break the rules.\n",
      "Although practicality beats purity.\n",
      "Errors should never pass silently.\n",
      "Unless explicitly silenced.\n",
      "In the face of ambiguity, refuse the temptation to guess.\n",
      "There should be one-- and preferably only one --obvious way to do it.\n",
      "Although that way may not be obvious at first unless you're Dutch.\n",
      "Now is better than never.\n",
      "Although never is often better than *right* now.\n",
      "If the implementation is hard to explain, it's a bad idea.\n",
      "If the implementation is easy to explain, it may be a good idea.\n",
      "Namespaces are one honking great idea -- let's do more of those!\n"
     ]
    }
   ],
   "source": [
    "import this : It works only once"
   ]
  },
  {
   "cell_type": "code",
   "execution_count": null,
   "metadata": {},
   "outputs": [],
   "source": [
    "#introduction to organishing the list:"
   ]
  },
  {
   "cell_type": "code",
   "execution_count": 47,
   "metadata": {},
   "outputs": [
    {
     "name": "stdout",
     "output_type": "stream",
     "text": [
      "['suman', 'keerthi', 'yasmin', 'ravi', 'john', 'gopi', 'praveen', 'sajid']\n"
     ]
    }
   ],
   "source": [
    "print(students)"
   ]
  },
  {
   "cell_type": "code",
   "execution_count": null,
   "metadata": {},
   "outputs": [],
   "source": [
    "Organishing in Alphabet order\n",
    "TWO possible ways to do that\n",
    "1) temporary way\n",
    "2) Permanent way\n"
   ]
  },
  {
   "cell_type": "code",
   "execution_count": 48,
   "metadata": {},
   "outputs": [
    {
     "name": "stdout",
     "output_type": "stream",
     "text": [
      "['gopi', 'john', 'keerthi', 'praveen', 'ravi', 'sajid', 'suman', 'yasmin']\n"
     ]
    }
   ],
   "source": [
    "print(sorted(students)) # when ever we use we can retrive the original and it is temporary\n",
    "print(students)"
   ]
  },
  {
   "cell_type": "code",
   "execution_count": 49,
   "metadata": {},
   "outputs": [
    {
     "name": "stdout",
     "output_type": "stream",
     "text": [
      "['suman', 'keerthi', 'yasmin', 'ravi', 'john', 'gopi', 'praveen', 'sajid']\n"
     ]
    }
   ],
   "source": [
    "print(students)"
   ]
  },
  {
   "cell_type": "code",
   "execution_count": 50,
   "metadata": {},
   "outputs": [],
   "source": [
    "students.sort() # permanent"
   ]
  },
  {
   "cell_type": "code",
   "execution_count": 51,
   "metadata": {},
   "outputs": [
    {
     "name": "stdout",
     "output_type": "stream",
     "text": [
      "['gopi', 'john', 'keerthi', 'praveen', 'ravi', 'sajid', 'suman', 'yasmin']\n"
     ]
    }
   ],
   "source": [
    "print(students)"
   ]
  },
  {
   "cell_type": "code",
   "execution_count": null,
   "metadata": {},
   "outputs": [],
   "source": [
    " This is difference between  sorted vs sort  "
   ]
  },
  {
   "cell_type": "code",
   "execution_count": 20,
   "metadata": {},
   "outputs": [],
   "source": []
  },
  {
   "cell_type": "code",
   "execution_count": null,
   "metadata": {},
   "outputs": [],
   "source": []
  },
  {
   "cell_type": "code",
   "execution_count": null,
   "metadata": {},
   "outputs": [],
   "source": []
  },
  {
   "cell_type": "code",
   "execution_count": null,
   "metadata": {},
   "outputs": [],
   "source": []
  },
  {
   "cell_type": "code",
   "execution_count": 22,
   "metadata": {},
   "outputs": [],
   "source": []
  },
  {
   "cell_type": "code",
   "execution_count": null,
   "metadata": {},
   "outputs": [],
   "source": []
  },
  {
   "cell_type": "code",
   "execution_count": null,
   "metadata": {},
   "outputs": [],
   "source": []
  },
  {
   "cell_type": "code",
   "execution_count": null,
   "metadata": {},
   "outputs": [],
   "source": []
  },
  {
   "cell_type": "code",
   "execution_count": null,
   "metadata": {},
   "outputs": [],
   "source": []
  },
  {
   "cell_type": "code",
   "execution_count": null,
   "metadata": {},
   "outputs": [],
   "source": []
  },
  {
   "cell_type": "code",
   "execution_count": null,
   "metadata": {},
   "outputs": [],
   "source": []
  },
  {
   "cell_type": "code",
   "execution_count": null,
   "metadata": {},
   "outputs": [],
   "source": []
  },
  {
   "cell_type": "code",
   "execution_count": null,
   "metadata": {},
   "outputs": [],
   "source": []
  },
  {
   "cell_type": "code",
   "execution_count": null,
   "metadata": {},
   "outputs": [],
   "source": []
  },
  {
   "cell_type": "code",
   "execution_count": null,
   "metadata": {},
   "outputs": [],
   "source": []
  },
  {
   "cell_type": "code",
   "execution_count": null,
   "metadata": {},
   "outputs": [],
   "source": []
  },
  {
   "cell_type": "code",
   "execution_count": null,
   "metadata": {},
   "outputs": [],
   "source": []
  }
 ],
 "metadata": {
  "kernelspec": {
   "display_name": "Python 3",
   "language": "python",
   "name": "python3"
  },
  "language_info": {
   "codemirror_mode": {
    "name": "ipython",
    "version": 3
   },
   "file_extension": ".py",
   "mimetype": "text/x-python",
   "name": "python",
   "nbconvert_exporter": "python",
   "pygments_lexer": "ipython3",
   "version": "3.7.6"
  }
 },
 "nbformat": 4,
 "nbformat_minor": 4
}
